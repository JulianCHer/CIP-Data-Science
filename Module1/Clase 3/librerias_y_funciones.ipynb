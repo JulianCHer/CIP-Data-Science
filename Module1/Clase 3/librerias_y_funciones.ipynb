{
  "nbformat": 4,
  "nbformat_minor": 0,
  "metadata": {
    "colab": {
      "provenance": [],
      "authorship_tag": "ABX9TyNUd5nxLLOGQU7jTZeVsgjn"
    },
    "kernelspec": {
      "name": "python3",
      "display_name": "Python 3"
    },
    "language_info": {
      "name": "python"
    }
  },
  "cells": [
    {
      "cell_type": "code",
      "execution_count": null,
      "metadata": {
        "colab": {
          "base_uri": "https://localhost:8080/"
        },
        "id": "vnxx1GJFSIbJ",
        "outputId": "4fe329df-4b1a-4f35-ee36-ec1478803f1c"
      },
      "outputs": [
        {
          "output_type": "stream",
          "name": "stdout",
          "text": [
            "[1 2 3 4]\n",
            "5\n",
            "[[2 3 4]\n",
            " [6 7 8]]\n",
            "[ 9 10 11 12]\n",
            "[ 4  8 12]\n"
          ]
        }
      ],
      "source": [
        "# numpy es la libreria para hacer operaciones matematicas\n",
        "import numpy as np\n",
        "\n",
        "#Creación de matrices en python:\n",
        "#matriz = [ [1,2,3,4] , [5,6,7,8] ] ---> Esta sería una matriz de 2 filas x 4 columnas\n",
        "\n",
        "matriz = np.array([\n",
        "    [1,2,3,4],\n",
        "    [5,6,7,8],\n",
        "    [9,10,11,12]\n",
        "    ])\n",
        "\n",
        "print(matriz[0])\n",
        "print(matriz[1][0])\n",
        "print(matriz[:2,1:])\n",
        "# matriz.max(axis = 0) ----> Me muestra los valores más alto de las columnas existentes\n",
        "# matriz.max(axis = 1) ----> Me muestra los valores más alto de las filas existentes\n",
        "\n",
        "print(matriz.max(axis = 0))\n",
        "print(matriz.max(axis = 1))"
      ]
    },
    {
      "cell_type": "code",
      "source": [
        "# pandas me permite leer archivos como CSV\n",
        "import pandas as pd\n",
        "\n",
        "# Definimos el diccionario de ejemplo\n",
        "football_dicc = {\n",
        "    \"Player\": [\"Lionel Messi\",\"Cristiano Ronaldo\"],\n",
        "    \"year\" : [2016,2016],\n",
        "    \"goals\": [37,25],\n",
        "}\n",
        "\n",
        "data = pd.DataFrame(football_dicc)\n",
        "print(data)\n",
        "\n"
      ],
      "metadata": {
        "colab": {
          "base_uri": "https://localhost:8080/"
        },
        "id": "pSbI89aWWdCn",
        "outputId": "f045f71d-70c4-448a-af0e-9f4ed5ba7c86"
      },
      "execution_count": null,
      "outputs": [
        {
          "output_type": "stream",
          "name": "stdout",
          "text": [
            "              Player  year  goals\n",
            "0       Lionel Messi  2016     37\n",
            "1  Cristiano Ronaldo  2016     25\n"
          ]
        }
      ]
    },
    {
      "cell_type": "code",
      "source": [
        "#Permisos para conectar y explorar en drive\n",
        "from google.colab import drive\n",
        "drive.mount('/content/drive/')\n",
        "\n",
        "#Libreria para graficos interactivos\n",
        "import plotly.express as px\n",
        "\n",
        "path_file = \"/content/drive/MyDrive/Colab Notebooks/pruebalib.csv\"\n",
        "#(la ruta del archivo, la separación que maneja el archivo,traiga o no la cabecera)\n",
        "df=pd.read_csv(path_file,sep=\",\",header=0)\n",
        "\n",
        "\n",
        "# df.head(n) ---> Retorna las primeras n filas (por defecto 5)\n",
        "# df.tail(n) ---> Retorna las ultimas n filas (por defecto 5)\n",
        "# df.sample(n) ---> Retorna n filas al azar\n",
        "# df.shape ---> Devuelve el numero de filas y columnas\n",
        "# df.size ---> Devuelve el total de datos (filas x columnas)\n",
        "# df.info() ----> Muestra los valores no nulos, tipos de datos\n",
        "# df.describe() ---> Genera estadisticas descriptivas"
      ],
      "metadata": {
        "collapsed": true,
        "id": "sUVCfXAVZLfN"
      },
      "execution_count": null,
      "outputs": []
    },
    {
      "cell_type": "code",
      "source": [
        "print(df.tail(2))"
      ],
      "metadata": {
        "colab": {
          "base_uri": "https://localhost:8080/"
        },
        "id": "4vIxn5Y-ftvZ",
        "outputId": "6da623b4-3a05-4904-8084-5986c7b8fea9"
      },
      "execution_count": 31,
      "outputs": [
        {
          "output_type": "stream",
          "name": "stdout",
          "text": [
            "              Equipos;Liga\n",
            "6  Manchester City;Premier\n",
            "7        Liverpool;Premier\n"
          ]
        }
      ]
    },
    {
      "cell_type": "code",
      "source": [
        "print(df.sample(2))"
      ],
      "metadata": {
        "colab": {
          "base_uri": "https://localhost:8080/"
        },
        "id": "Jw4JfphQgOS3",
        "outputId": "4622a1ce-1e42-4d4a-c58b-ef05f6d97dd9"
      },
      "execution_count": 32,
      "outputs": [
        {
          "output_type": "stream",
          "name": "stdout",
          "text": [
            "           Equipos;Liga\n",
            "4  Real sociedad;Laliga\n",
            "3        Sevilla;Laliga\n"
          ]
        }
      ]
    },
    {
      "cell_type": "code",
      "source": [
        "print(df.shape)"
      ],
      "metadata": {
        "colab": {
          "base_uri": "https://localhost:8080/"
        },
        "id": "szexF9IigWqI",
        "outputId": "26a19aec-a944-4f4c-95d4-beae73ecf345"
      },
      "execution_count": 33,
      "outputs": [
        {
          "output_type": "stream",
          "name": "stdout",
          "text": [
            "(8, 1)\n"
          ]
        }
      ]
    },
    {
      "cell_type": "code",
      "source": [
        "print(df.size)"
      ],
      "metadata": {
        "colab": {
          "base_uri": "https://localhost:8080/"
        },
        "id": "RdNqLU38gegW",
        "outputId": "5fcdc0ce-68b6-4834-a518-f952bf3d609d"
      },
      "execution_count": 34,
      "outputs": [
        {
          "output_type": "execute_result",
          "data": {
            "text/plain": [
              "8"
            ]
          },
          "metadata": {},
          "execution_count": 34
        }
      ]
    },
    {
      "cell_type": "code",
      "source": [
        "print(df.info())"
      ],
      "metadata": {
        "colab": {
          "base_uri": "https://localhost:8080/"
        },
        "id": "Y2QeM_wvghRJ",
        "outputId": "9e4ddfe3-4591-4c86-a26e-b041567afe23"
      },
      "execution_count": 35,
      "outputs": [
        {
          "output_type": "stream",
          "name": "stdout",
          "text": [
            "<class 'pandas.core.frame.DataFrame'>\n",
            "RangeIndex: 8 entries, 0 to 7\n",
            "Data columns (total 1 columns):\n",
            " #   Column        Non-Null Count  Dtype \n",
            "---  ------        --------------  ----- \n",
            " 0   Equipos;Liga  8 non-null      object\n",
            "dtypes: object(1)\n",
            "memory usage: 192.0+ bytes\n"
          ]
        }
      ]
    },
    {
      "cell_type": "code",
      "source": [
        "print(df.describe())"
      ],
      "metadata": {
        "colab": {
          "base_uri": "https://localhost:8080/"
        },
        "id": "V3U1U91ZgkTS",
        "outputId": "4ed18e9a-5765-4604-d160-5f09591fc9c8"
      },
      "execution_count": 36,
      "outputs": [
        {
          "output_type": "stream",
          "name": "stdout",
          "text": [
            "            Equipos;Liga\n",
            "count                  8\n",
            "unique                 8\n",
            "top     Barcelona;Laliga\n",
            "freq                   1\n"
          ]
        }
      ]
    },
    {
      "cell_type": "code",
      "source": [
        "print(df.columns)"
      ],
      "metadata": {
        "colab": {
          "base_uri": "https://localhost:8080/"
        },
        "id": "3ObdaW4AhjcD",
        "outputId": "7199454d-fa8f-4d4d-dd53-da12df95979f"
      },
      "execution_count": 37,
      "outputs": [
        {
          "output_type": "stream",
          "name": "stdout",
          "text": [
            "Index(['Equipos;Liga'], dtype='object')\n"
          ]
        }
      ]
    },
    {
      "cell_type": "code",
      "source": [
        "#Cambio de nombre de la columna de mi archivo\n",
        "df.columns = ['Equipos de futbol;Liga a la que pertenece']\n",
        "df.info()"
      ],
      "metadata": {
        "colab": {
          "base_uri": "https://localhost:8080/"
        },
        "id": "bWXPKWJGiBT1",
        "outputId": "74355317-9de4-49fc-f5dc-9f715e81bfca"
      },
      "execution_count": 43,
      "outputs": [
        {
          "output_type": "stream",
          "name": "stdout",
          "text": [
            "<class 'pandas.core.frame.DataFrame'>\n",
            "RangeIndex: 8 entries, 0 to 7\n",
            "Data columns (total 1 columns):\n",
            " #   Column                                     Non-Null Count  Dtype \n",
            "---  ------                                     --------------  ----- \n",
            " 0   Equipos de futbol;Liga a la que pertenece  8 non-null      object\n",
            "dtypes: object(1)\n",
            "memory usage: 192.0+ bytes\n"
          ]
        }
      ]
    },
    {
      "cell_type": "code",
      "source": [
        "# Me trae los valores unicos\n",
        "df('Equipos').unique()\n",
        "# Ordenar mediante esta columna sort_values(dentro del parentesis) ó (['columna 1','columna 2'])\n",
        "df.sort_values()"
      ],
      "metadata": {
        "colab": {
          "base_uri": "https://localhost:8080/",
          "height": 193
        },
        "id": "dUSg4krhkP9T",
        "outputId": "bb4c946f-7d8d-4458-cb89-cde7ad54a63d"
      },
      "execution_count": 55,
      "outputs": [
        {
          "output_type": "error",
          "ename": "TypeError",
          "evalue": "'DataFrame' object is not callable",
          "traceback": [
            "\u001b[0;31m---------------------------------------------------------------------------\u001b[0m",
            "\u001b[0;31mTypeError\u001b[0m                                 Traceback (most recent call last)",
            "\u001b[0;32m<ipython-input-55-7ffc7d9c6a2f>\u001b[0m in \u001b[0;36m<cell line: 2>\u001b[0;34m()\u001b[0m\n\u001b[1;32m      1\u001b[0m \u001b[0;31m# Me trae los valores unicos\u001b[0m\u001b[0;34m\u001b[0m\u001b[0;34m\u001b[0m\u001b[0m\n\u001b[0;32m----> 2\u001b[0;31m \u001b[0mdf\u001b[0m\u001b[0;34m(\u001b[0m\u001b[0;34m'Equipos'\u001b[0m\u001b[0;34m)\u001b[0m\u001b[0;34m.\u001b[0m\u001b[0munique\u001b[0m\u001b[0;34m(\u001b[0m\u001b[0;34m)\u001b[0m\u001b[0;34m\u001b[0m\u001b[0;34m\u001b[0m\u001b[0m\n\u001b[0m\u001b[1;32m      3\u001b[0m \u001b[0;31m# Ordenar mediante esta columna sort_values(dentro del parentesis) ó ([])\u001b[0m\u001b[0;34m\u001b[0m\u001b[0;34m\u001b[0m\u001b[0m\n\u001b[1;32m      4\u001b[0m \u001b[0mdf\u001b[0m\u001b[0;34m.\u001b[0m\u001b[0msort_values\u001b[0m\u001b[0;34m(\u001b[0m\u001b[0;34m)\u001b[0m\u001b[0;34m\u001b[0m\u001b[0;34m\u001b[0m\u001b[0m\n",
            "\u001b[0;31mTypeError\u001b[0m: 'DataFrame' object is not callable"
          ]
        }
      ]
    }
  ]
}